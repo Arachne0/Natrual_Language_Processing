{
 "cells": [
  {
   "cell_type": "code",
   "execution_count": 2,
   "id": "a0a304d0",
   "metadata": {},
   "outputs": [],
   "source": [
    "import tensorflow as tf\n",
    "from tensorflow import keras \n",
    "from tensorflow.keras.preprocessing.text import Tokenizer"
   ]
  },
  {
   "cell_type": "code",
   "execution_count": 12,
   "id": "5ae13aee",
   "metadata": {},
   "outputs": [
    {
     "name": "stdout",
     "output_type": "stream",
     "text": [
      "{'my': 1, 'love': 2, 'dog': 3, 'i': 4, 'you': 5, 'cat': 6, 'do': 7, 'think': 8, 'is': 9, 'amazing': 10}\n",
      "[[4, 2, 1, 3], [4, 2, 1, 6], [5, 2, 1, 3], [7, 5, 8, 1, 3, 9, 10]]\n"
     ]
    }
   ],
   "source": [
    "# converting text to sequence\n",
    "\n",
    "sentences = [\n",
    "    'I love my dog',\n",
    "    'I love my cat',\n",
    "    'You love my dog!',\n",
    "    'Do you think my dog is amazing?'\n",
    "]\n",
    "\n",
    "tokenizer = Tokenizer(num_words = 100)\n",
    "tokenizer.fit_on_texts(sentences)\n",
    "word_index = tokenizer.word_index\n",
    "\n",
    "sequences = tokenizer.texts_to_sequences(sentences)\n",
    "\n",
    "print(word_index)\n",
    "print(sequences)\n",
    "\n",
    "# 미리 토큰화되어 있지 않은 'really', 'loves'와 같은 단어들은 숫자들의 시퀀스에 포함되지 않는다."
   ]
  },
  {
   "cell_type": "code",
   "execution_count": 14,
   "id": "35526137",
   "metadata": {},
   "outputs": [
    {
     "name": "stdout",
     "output_type": "stream",
     "text": [
      "[[5, 1, 3, 2, 1, 4, 1, 2, 1]]\n",
      "{'<OOV>': 1, 'my': 2, 'love': 3, 'dog': 4, 'i': 5, 'you': 6, 'cat': 7, 'do': 8, 'think': 9, 'is': 10, 'amazing': 11}\n"
     ]
    }
   ],
   "source": [
    "# processing untokenized words\n",
    "\n",
    "sentences = [\n",
    "    'I love my dog',\n",
    "    'I love my cat',\n",
    "    'You love my dog!',\n",
    "    'Do you think my dog is amazing?'\n",
    "]\n",
    "\n",
    "tokenizer = Tokenizer(num_words = 100, oov_token=\"<OOV>\")\n",
    "tokenizer.fit_on_texts(sentences)\n",
    "word_index = tokenizer.word_index\n",
    "\n",
    "sequences = tokenizer.texts_to_sequences(sentences)\n",
    "\n",
    "test_sentences = [\n",
    "    'i really love my dog'\n",
    "    'my dog loves my friend'\n",
    "]\n",
    "\n",
    "test_sequences = tokenizer.texts_to_sequences(test_sentences)\n",
    "\n",
    "print(test_sequences)\n",
    "print(word_index)\n",
    "\n",
    "# Tokenzier의 oov_token인자를 사용하면 미리 인덱싱하지 않은 단어 <OOV>로 인덱싱된다."
   ]
  },
  {
   "cell_type": "code",
   "execution_count": 19,
   "id": "e6854e7e",
   "metadata": {},
   "outputs": [
    {
     "name": "stdout",
     "output_type": "stream",
     "text": [
      "[[ 5  3  2  4  0  0  0]\n",
      " [ 5  3  2  7  0  0  0]\n",
      " [ 6  3  2  4  0  0  0]\n",
      " [ 8  6  9  2  4 10 11]]\n"
     ]
    }
   ],
   "source": [
    "# setting padding\n",
    "\n",
    "from tensorflow.keras.preprocessing.sequence import pad_sequences\n",
    "\n",
    "padded = pad_sequences(sequences, padding='post')\n",
    "print(padded)\n",
    "\n",
    "# default = padding = 'pre'"
   ]
  },
  {
   "cell_type": "code",
   "execution_count": 18,
   "id": "31176e13",
   "metadata": {},
   "outputs": [
    {
     "name": "stdout",
     "output_type": "stream",
     "text": [
      "[[ 5  3  2  4  0  0  0]\n",
      " [ 5  3  2  7  0  0  0]\n",
      " [ 6  3  2  4  0  0  0]\n",
      " [ 8  6  9  2  4 10 11]]\n"
     ]
    }
   ],
   "source": [
    "# maxlen parameter\n",
    "\n",
    "padded = pad_sequences(sequences, padding='pre', maxlen = 6)\n",
    "print(padded)\n",
    "\n",
    "# maxlen parameter는 시퀀스의 최대 길이를 반환. "
   ]
  },
  {
   "cell_type": "code",
   "execution_count": 21,
   "id": "e4a80a27",
   "metadata": {},
   "outputs": [
    {
     "name": "stdout",
     "output_type": "stream",
     "text": [
      "[[ 0  0  5  3  2  4]\n",
      " [ 0  0  5  3  2  7]\n",
      " [ 0  0  6  3  2  4]\n",
      " [ 8  6  9  2  4 10]]\n"
     ]
    }
   ],
   "source": [
    "# truncating parameter\n",
    "\n",
    "padded = pad_sequences(sequences, padding = 'pre',maxlen = 6, truncating='post')\n",
    "print(padded)\n",
    "\n",
    "# truncating parameter 는 최대 길이를 넘는 sequences를 잘라낼 위치를 지정한다."
   ]
  }
 ],
 "metadata": {
  "kernelspec": {
   "display_name": "Python 3 (ipykernel)",
   "language": "python",
   "name": "python3"
  },
  "language_info": {
   "codemirror_mode": {
    "name": "ipython",
    "version": 3
   },
   "file_extension": ".py",
   "mimetype": "text/x-python",
   "name": "python",
   "nbconvert_exporter": "python",
   "pygments_lexer": "ipython3",
   "version": "3.8.16"
  }
 },
 "nbformat": 4,
 "nbformat_minor": 5
}
