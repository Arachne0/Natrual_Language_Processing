{
  "nbformat": 4,
  "nbformat_minor": 0,
  "metadata": {
    "colab": {
      "provenance": [],
      "authorship_tag": "ABX9TyN1dwifAFg0ybUZ9+FTaXnu",
      "include_colab_link": true
    },
    "kernelspec": {
      "name": "python3",
      "display_name": "Python 3"
    },
    "language_info": {
      "name": "python"
    }
  },
  "cells": [
    {
      "cell_type": "markdown",
      "metadata": {
        "id": "view-in-github",
        "colab_type": "text"
      },
      "source": [
        "<a href=\"https://colab.research.google.com/github/Arachne0/Natrual_Language_Processing/blob/master/Dropout.ipynb\" target=\"_parent\"><img src=\"https://colab.research.google.com/assets/colab-badge.svg\" alt=\"Open In Colab\"/></a>"
      ]
    },
    {
      "cell_type": "code",
      "execution_count": 1,
      "metadata": {
        "id": "8frvxx-ehV2O"
      },
      "outputs": [],
      "source": [
        "import torch \n",
        "m = torch.nn.Dropout(p=0.2) # 드롭아웃 수행 비율이 평균적으로 20%가 되게 끔 하겠다.\n",
        "                            # torch.nn.Dropout 은 안정적인 학습을 위해 각 요솟값에 1/(1-p) 을 곱한다.\n",
        "input = torch.randn(1,10)\n",
        "output = m(input)"
      ]
    },
    {
      "cell_type": "code",
      "source": [
        "input"
      ],
      "metadata": {
        "colab": {
          "base_uri": "https://localhost:8080/"
        },
        "id": "nTyDfZ5KhhVv",
        "outputId": "4b76a76c-af97-460a-fbd3-1a742028974c"
      },
      "execution_count": 2,
      "outputs": [
        {
          "output_type": "execute_result",
          "data": {
            "text/plain": [
              "tensor([[-0.9709,  0.3148, -0.0932, -0.1651, -0.7548,  1.1059,  0.6830, -1.5748,\n",
              "         -0.0156, -1.3447]])"
            ]
          },
          "metadata": {},
          "execution_count": 2
        }
      ]
    },
    {
      "cell_type": "code",
      "source": [
        "output"
      ],
      "metadata": {
        "colab": {
          "base_uri": "https://localhost:8080/"
        },
        "id": "qayuZ8xkhiNl",
        "outputId": "d0a7710c-6cd4-4b84-efa3-bbf3014155a6"
      },
      "execution_count": 3,
      "outputs": [
        {
          "output_type": "execute_result",
          "data": {
            "text/plain": [
              "tensor([[-1.2136,  0.3935, -0.1165, -0.0000, -0.0000,  1.3824,  0.8537, -0.0000,\n",
              "         -0.0195, -1.6809]])"
            ]
          },
          "metadata": {},
          "execution_count": 3
        }
      ]
    }
  ]
}
