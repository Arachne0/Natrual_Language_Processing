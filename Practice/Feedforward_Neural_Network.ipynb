{
  "nbformat": 4,
  "nbformat_minor": 0,
  "metadata": {
    "colab": {
      "provenance": [],
      "authorship_tag": "ABX9TyN+PANBqz/Upy8AIs2Dlve4",
      "include_colab_link": true
    },
    "kernelspec": {
      "name": "python3",
      "display_name": "Python 3"
    },
    "language_info": {
      "name": "python"
    }
  },
  "cells": [
    {
      "cell_type": "markdown",
      "metadata": {
        "id": "view-in-github",
        "colab_type": "text"
      },
      "source": [
        "<a href=\"https://colab.research.google.com/github/Arachne0/Natrual_Language_Processing/blob/master/Feedforward_Neural_Network.ipynb\" target=\"_parent\"><img src=\"https://colab.research.google.com/assets/colab-badge.svg\" alt=\"Open In Colab\"/></a>"
      ]
    },
    {
      "cell_type": "code",
      "execution_count": 1,
      "metadata": {
        "id": "d8qFSJBqwkI6"
      },
      "outputs": [],
      "source": [
        "import torch\n",
        "x = torch.tensor([2,1])\n",
        "w1 = torch.tensor([[3,2,-4],[2,-3,1]])\n",
        "b1 = 1\n",
        "w2 = torch.tensor([[-1,1],[1,2],[3,1]])\n",
        "b2 = -1"
      ]
    },
    {
      "cell_type": "code",
      "source": [
        "h_preact = torch.matmul(x,w1) + b1\n",
        "h = torch.nn.functional.relu(h_preact)\n",
        "y = torch.matmul(h,w2) + b2\n",
        "\n",
        "h_preact"
      ],
      "metadata": {
        "colab": {
          "base_uri": "https://localhost:8080/"
        },
        "id": "keju5Ndtw-fq",
        "outputId": "64fe0e3f-c34d-4737-91aa-4ae4259e18bf"
      },
      "execution_count": 2,
      "outputs": [
        {
          "output_type": "execute_result",
          "data": {
            "text/plain": [
              "tensor([ 9,  2, -6])"
            ]
          },
          "metadata": {},
          "execution_count": 2
        }
      ]
    },
    {
      "cell_type": "code",
      "source": [
        "h"
      ],
      "metadata": {
        "colab": {
          "base_uri": "https://localhost:8080/"
        },
        "id": "JVFgaOvJx6hY",
        "outputId": "87ca9ae3-a445-4e94-aa03-c8d7de20f9a3"
      },
      "execution_count": 3,
      "outputs": [
        {
          "output_type": "execute_result",
          "data": {
            "text/plain": [
              "tensor([9, 2, 0])"
            ]
          },
          "metadata": {},
          "execution_count": 3
        }
      ]
    },
    {
      "cell_type": "code",
      "source": [
        "y"
      ],
      "metadata": {
        "colab": {
          "base_uri": "https://localhost:8080/"
        },
        "id": "flzx06Ahx7hh",
        "outputId": "d814bd17-c294-448f-b623-84cd7aa47905"
      },
      "execution_count": 4,
      "outputs": [
        {
          "output_type": "execute_result",
          "data": {
            "text/plain": [
              "tensor([-8, 12])"
            ]
          },
          "metadata": {},
          "execution_count": 4
        }
      ]
    }
  ]
}
