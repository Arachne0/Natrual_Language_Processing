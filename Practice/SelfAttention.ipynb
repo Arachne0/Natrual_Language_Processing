{
  "nbformat": 4,
  "nbformat_minor": 0,
  "metadata": {
    "colab": {
      "provenance": [],
      "authorship_tag": "ABX9TyNdk996m0Wx+gYqjmDP2igG",
      "include_colab_link": true
    },
    "kernelspec": {
      "name": "python3",
      "display_name": "Python 3"
    },
    "language_info": {
      "name": "python"
    }
  },
  "cells": [
    {
      "cell_type": "markdown",
      "metadata": {
        "id": "view-in-github",
        "colab_type": "text"
      },
      "source": [
        "<a href=\"https://colab.research.google.com/github/Arachne0/Natrual_Language_Processing/blob/master/SelfAttention.ipynb\" target=\"_parent\"><img src=\"https://colab.research.google.com/assets/colab-badge.svg\" alt=\"Open In Colab\"/></a>"
      ]
    },
    {
      "cell_type": "code",
      "execution_count": 1,
      "metadata": {
        "id": "EYIe_H2lyWgZ"
      },
      "outputs": [],
      "source": [
        "import torch\n",
        "x = torch.tensor([ # 벡터 시퀀스 x 정의\n",
        "    [1.0, 0.0, 1.0, 0.0],\n",
        "    [0.0, 2.0, 0.0, 2.0],\n",
        "    [1.0, 1.0, 1.0, 1.0],\n",
        "])\n",
        "\n",
        "w_query = torch.tensor([ # 쿼리 행렬 정의\n",
        "    [1.0, 0.0, 1.0],\n",
        "    [1.0, 0.0, 0.0],\n",
        "    [0.0, 0.0, 1.0],\n",
        "    [0.0, 1.0, 1.0],\n",
        "])\n",
        "\n",
        "w_key = torch.tensor([ # 키 행렬 정의\n",
        "    [0.0, 0.0, 1.0],\n",
        "    [1.0, 1.0, 0.0],\n",
        "    [0.0, 1.0, 0.0],\n",
        "    [1.0, 1.0, 0.0]\n",
        "])\n",
        "\n",
        "w_value = torch.tensor([ # 밸류 행렬 정의\n",
        "    [0.0, 2.0, 0.0],\n",
        "    [0.0, 3.0, 0.0],\n",
        "    [1.0, 0.0, 3.0],\n",
        "    [1.0, 1.0, 0.0]\n",
        "])"
      ]
    },
    {
      "cell_type": "code",
      "source": [
        "# torch.matmul 는 행렬곱을 수행하는 함수\n",
        "keys = torch.matmul(x, w_key)\n",
        "querys = torch.matmul(x, w_query)\n",
        "values = torch.matmul(x, w_value)"
      ],
      "metadata": {
        "id": "uN_zt4u-ykO8"
      },
      "execution_count": 2,
      "outputs": []
    },
    {
      "cell_type": "code",
      "source": [
        "# 쿼리 벡터와 키 벡터를 행렬곱해서 어텐션 스코어를 만드는 과정. keys.T는 키 벡터들을 전치한 행렬\n",
        "attn_scores = torch.matmul(querys, keys.T) \n",
        "attn_scores"
      ],
      "metadata": {
        "colab": {
          "base_uri": "https://localhost:8080/"
        },
        "id": "TtvgiIP9ykRS",
        "outputId": "10f41164-bb8d-452b-fc64-323fe7118dc3"
      },
      "execution_count": 3,
      "outputs": [
        {
          "output_type": "execute_result",
          "data": {
            "text/plain": [
              "tensor([[ 2.,  4.,  4.],\n",
              "        [ 4., 16., 12.],\n",
              "        [ 4., 12., 10.]])"
            ]
          },
          "metadata": {},
          "execution_count": 3
        }
      ]
    },
    {
      "cell_type": "code",
      "source": [
        "# 앞 코드 결과에 키 벡터의 차원 수 제곱근으로 나눈 후 소프트맥스를 취하는 과정\n",
        "\n",
        "import numpy as np\n",
        "from torch.nn.functional import softmax\n",
        "key_dim_sqrt = np.sqrt(keys.shape[-1])\n",
        "attn_probs = softmax(attn_scores / key_dim_sqrt, dim = 1)\n",
        "attn_probs"
      ],
      "metadata": {
        "colab": {
          "base_uri": "https://localhost:8080/"
        },
        "id": "PoVkwa-bykS9",
        "outputId": "0867f6ff-2738-4bde-f898-2174113cc73c"
      },
      "execution_count": 4,
      "outputs": [
        {
          "output_type": "execute_result",
          "data": {
            "text/plain": [
              "tensor([[1.3613e-01, 4.3194e-01, 4.3194e-01],\n",
              "        [8.9045e-04, 9.0884e-01, 9.0267e-02],\n",
              "        [7.4449e-03, 7.5471e-01, 2.3785e-01]])"
            ]
          },
          "metadata": {},
          "execution_count": 4
        }
      ]
    },
    {
      "cell_type": "code",
      "source": [
        "# 셀프 어텐션은 학습 대상은 query, key , value를 만드는 가중치 행렬이다. \n",
        "# 이들은 태스크를 가장 잘 수행하는 방향으로 학습 과정에서 업데이트 된다.\n",
        "weighted_values = torch.matmul(attn_probs, values)\n",
        "weighted_values"
      ],
      "metadata": {
        "colab": {
          "base_uri": "https://localhost:8080/"
        },
        "id": "91482Aq8ykVE",
        "outputId": "93b69816-4767-4863-cd0c-742f5d5ce950"
      },
      "execution_count": 5,
      "outputs": [
        {
          "output_type": "execute_result",
          "data": {
            "text/plain": [
              "tensor([[1.8639, 6.3194, 1.7042],\n",
              "        [1.9991, 7.8141, 0.2735],\n",
              "        [1.9926, 7.4796, 0.7359]])"
            ]
          },
          "metadata": {},
          "execution_count": 5
        }
      ]
    }
  ]
}
